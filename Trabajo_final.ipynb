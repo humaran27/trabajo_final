{
  "nbformat": 4,
  "nbformat_minor": 0,
  "metadata": {
    "colab": {
      "provenance": [],
      "authorship_tag": "ABX9TyOG/Lp+vb+TIO3XxZ1SZ7is",
      "include_colab_link": true
    },
    "kernelspec": {
      "name": "python3",
      "display_name": "Python 3"
    },
    "language_info": {
      "name": "python"
    }
  },
  "cells": [
    {
      "cell_type": "markdown",
      "metadata": {
        "id": "view-in-github",
        "colab_type": "text"
      },
      "source": [
        "<a href=\"https://colab.research.google.com/github/humaran27/trabajo_final/blob/main/Trabajo_final.ipynb\" target=\"_parent\"><img src=\"https://colab.research.google.com/assets/colab-badge.svg\" alt=\"Open In Colab\"/></a>"
      ]
    },
    {
      "cell_type": "code",
      "execution_count": 11,
      "metadata": {
        "id": "2-Cp6PcBkujo",
        "colab": {
          "base_uri": "https://localhost:8080/",
          "height": 663
        },
        "outputId": "b349a190-4b8b-439e-826f-addff5d1785f"
      },
      "outputs": [
        {
          "output_type": "stream",
          "name": "stdout",
          "text": [
            "CSV cargado correctamente.\n",
            "Running Gradio in a Colab notebook requires sharing enabled. Automatically setting `share=True` (you can turn this off by setting `share=False` in `launch()` explicitly).\n",
            "\n",
            "Colab notebook detected. To show errors in colab notebook, set debug=True in launch()\n",
            "* Running on public URL: https://8b655fc1669f3a4ea0.gradio.live\n",
            "\n",
            "This share link expires in 72 hours. For free permanent hosting and GPU upgrades, run `gradio deploy` from the terminal in the working directory to deploy to Hugging Face Spaces (https://huggingface.co/spaces)\n"
          ]
        },
        {
          "output_type": "display_data",
          "data": {
            "text/plain": [
              "<IPython.core.display.HTML object>"
            ],
            "text/html": [
              "<div><iframe src=\"https://8b655fc1669f3a4ea0.gradio.live\" width=\"100%\" height=\"500\" allow=\"autoplay; camera; microphone; clipboard-read; clipboard-write;\" frameborder=\"0\" allowfullscreen></iframe></div>"
            ]
          },
          "metadata": {}
        },
        {
          "output_type": "execute_result",
          "data": {
            "text/plain": []
          },
          "metadata": {},
          "execution_count": 11
        }
      ],
      "source": [
        "import pandas as pd\n",
        "import gradio as gr\n",
        "import os\n",
        "\n",
        "# Cargar CSV\n",
        "try:\n",
        "    df = pd.read_csv('peliculas.csv')\n",
        "    print(\"CSV cargado correctamente.\")\n",
        "except Exception as e:\n",
        "    print(f\"Error al cargar el archivo: {e}\")\n",
        "    df = pd.DataFrame(columns=[\"title\", \"genre\", \"consensus\", \"critic_score\", \"people_score\", \"synopsis\"])\n",
        "\n",
        "# Función para buscar películas por género o título\n",
        "def buscar_pelicula(pregunta):\n",
        "    pregunta = pregunta.lower()\n",
        "\n",
        "    # Buscar por género\n",
        "    for genero in df['genre'].dropna().unique():\n",
        "        if genero.lower() in pregunta:\n",
        "            resultado = df[df['genre'].str.lower().str.contains(genero.lower())]\n",
        "            if not resultado.empty:\n",
        "                resultado = resultado.sample(1)  # Solo una respuesta aleatoria\n",
        "            return resultado[['title', 'genre', 'consensus']]\n",
        "\n",
        "    # Buscar por título\n",
        "    for titulo in df['title'].dropna().unique():\n",
        "        if titulo.lower() in pregunta:\n",
        "            resultado = df[df['title'].str.lower().str.contains(titulo.lower())]\n",
        "            if not resultado.empty:\n",
        "                resultado = resultado.sample(1)  # Solo una respuesta aleatoria\n",
        "            return resultado[['title', 'genre', 'consensus']]\n",
        "\n",
        "    return \"No se encontró ninguna película relacionada con tu pregunta.\"\n",
        "\n",
        "# Función para convertir puntajes en estrellas\n",
        "def puntaje_a_estrellas(puntaje):\n",
        "    if puntaje >= 90:\n",
        "        return \"⭐️⭐️⭐️⭐️⭐️\"\n",
        "    elif puntaje >= 75:\n",
        "        return \"⭐️⭐️⭐️⭐️\"\n",
        "    elif puntaje >= 60:\n",
        "        return \"⭐️⭐️⭐️\"\n",
        "    elif puntaje >= 40:\n",
        "        return \"⭐️⭐️\"\n",
        "    elif puntaje > 0:\n",
        "        return \"⭐️\"\n",
        "    return \"Sin calificación\"\n",
        "\n",
        "# Clasificación por puntajes de estrellas\n",
        "def clasificacion_estrellas():\n",
        "    if df.empty:\n",
        "        return pd.DataFrame([[\"Sin datos\", \"\", \"\", \"\"]], columns=[\"Título\", \"Críticos\", \"Público\", \"Estrellas\"])\n",
        "\n",
        "    df_filtrado = df[['title', 'critic_score', 'people_score']].dropna()\n",
        "    df_filtrado['Promedio'] = (df_filtrado['critic_score'] + df_filtrado['people_score']) / 2\n",
        "    df_filtrado['Estrellas'] = df_filtrado['Promedio'].apply(puntaje_a_estrellas)\n",
        "    return df_filtrado[['title', 'critic_score', 'people_score', 'Estrellas']].rename(columns={\n",
        "        \"title\": \"Título\", \"critic_score\": \"Críticos\", \"people_score\": \"Público\"\n",
        "    })\n",
        "\n",
        "# Función para analizar y clasificar comentarios\n",
        "def analizar_comentarios():\n",
        "    if df.empty:\n",
        "        return pd.DataFrame([[\"Sin comentarios\", \"\", 0]], columns=[\"Título\", \"Comentario\", \"Puntuación\"])\n",
        "\n",
        "    comentarios = df[['title', 'consensus']].dropna()\n",
        "    comentarios['Puntuación'] = comentarios['consensus'].apply(lambda x: puntuar_comentario(x))\n",
        "    comentarios['Clasificación'] = comentarios['Puntuación'].apply(lambda x: \"Positivo\" if x > 50 else \"Negativo\")\n",
        "\n",
        "    return comentarios[['title', 'consensus', 'Puntuación', 'Clasificación']].rename(columns={\n",
        "        \"title\": \"Título\", \"consensus\": \"Comentario\", \"Puntuación\": \"Puntuación (1-100)\"\n",
        "    })\n",
        "\n",
        "# Función para puntuar el comentario\n",
        "def puntuar_comentario(comentario):\n",
        "    comentario = comentario.lower()\n",
        "    palabras_positivas = [\"excelente\", \"buena\", \"genial\", \"fantástica\", \"increíble\", \"maravillosa\", \"disfruté\", \"recomendable\", \"impresionante\", \"entretenida\", \"sorprendente\", \"emocionante\", \"bien hecha\"]\n",
        "    palabras_negativas = [\"mala\", \"horrible\", \"aburrida\", \"predecible\", \"débil\", \"decepcionante\", \"pérdida de tiempo\", \"floja\", \"terrible\", \"insufrible\", \"tonta\", \"mal escrita\"]\n",
        "\n",
        "    total_positivas = sum(1 for palabra in palabras_positivas if palabra in comentario)\n",
        "    total_negativas = sum(1 for palabra in palabras_negativas if palabra in comentario)\n",
        "\n",
        "    if total_positivas + total_negativas == 0:\n",
        "        return 50  # Neutral si no se encuentran palabras clave\n",
        "\n",
        "    # Puntaje proporcional entre 0 y 100\n",
        "    score = (total_positivas / (total_positivas + total_negativas)) * 100\n",
        "    return int(score)\n",
        "\n",
        "\n",
        "# GRADIO: Interfaz\n",
        "with gr.Blocks(theme=gr.themes.Soft()) as app:\n",
        "    gr.Markdown(\"# 🎬 Buscador y Calificador de Películas\")\n",
        "\n",
        "    with gr.Tab(\"🔍 Buscar Película\"):\n",
        "        pregunta = gr.Textbox(label=\"Haz una pregunta (por género o título)\")\n",
        "        buscar_btn = gr.Button(\"Buscar\")\n",
        "        resultado_busqueda = gr.DataFrame(label=\"Resultados\")\n",
        "        buscar_btn.click(fn=buscar_pelicula, inputs=pregunta, outputs=resultado_busqueda)\n",
        "\n",
        "    with gr.Tab(\"⭐ Clasificación por Estrellas\"):\n",
        "        calificar_btn = gr.Button(\"Mostrar Clasificación\")\n",
        "        resultado_calificacion = gr.DataFrame(label=\"Clasificación por Estrellas\")\n",
        "        calificar_btn.click(fn=clasificacion_estrellas, inputs=[], outputs=resultado_calificacion)\n",
        "\n",
        "    with gr.Tab(\"💬 Comentarios de Usuarios\"):\n",
        "        comentarios_btn = gr.Button(\"Mostrar Comentarios\")\n",
        "        resultado_comentarios = gr.DataFrame(label=\"Comentarios de Películas\")\n",
        "        comentarios_btn.click(fn=analizar_comentarios, inputs=[], outputs=resultado_comentarios)\n",
        "\n",
        "app.launch()\n"
      ]
    }
  ]
}